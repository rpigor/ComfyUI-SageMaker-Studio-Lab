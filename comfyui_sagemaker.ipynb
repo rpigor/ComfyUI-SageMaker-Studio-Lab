{
 "cells": [
  {
   "cell_type": "markdown",
   "id": "ea43d4a1",
   "metadata": {},
   "source": [
    "# ComfyUI on SageMaker Studio Lab\n",
    "\n",
    "This notebook will guide you through the process of using ComfyUI on SageMaker Studio Lab."
   ]
  },
  {
   "cell_type": "markdown",
   "id": "365f8f08",
   "metadata": {},
   "source": [
    "### 1. Install ComfyUI and setup zrok. Execute it once."
   ]
  },
  {
   "cell_type": "markdown",
   "id": "f44841db",
   "metadata": {},
   "source": [
    "First, install ComfyUI along with its dependencies:"
   ]
  },
  {
   "cell_type": "code",
   "execution_count": null,
   "id": "7ad40e45-9797-4188-be16-2e6c4d218ddc",
   "metadata": {
    "tags": []
   },
   "outputs": [],
   "source": [
    "%cd\n",
    "!conda install -c conda-forge libglib -y & conda update -n base conda -y\n",
    "!git clone --depth 1 https://github.com/comfyanonymous/ComfyUI\n",
    "\n",
    "%cd ~/ComfyUI\n",
    "!pip install -r requirements.txt\n",
    "!pip install torchvision"
   ]
  },
  {
   "cell_type": "markdown",
   "id": "86a62b43",
   "metadata": {},
   "source": [
    "Install and setup zrok:"
   ]
  },
  {
   "cell_type": "code",
   "execution_count": null,
   "id": "bf152aa5",
   "metadata": {
    "tags": []
   },
   "outputs": [],
   "source": [
    "import os\n",
    "import subprocess\n",
    "\n",
    "zrok_url = \"https://github.com/openziti/zrok/releases/download/v0.4.30/zrok_0.4.30_linux_amd64.tar.gz\" # update this link to the latest release\n",
    "zrok_path = f\"/home/studio-lab-user/.zrok/bin\"\n",
    "os.makedirs(zrok_path, exist_ok=True)\n",
    "\n",
    "tarball_path = f\"{zrok_path}/zrok_0.4.30_linux_amd64.tar.gz\"\n",
    "flags = {\"shell\": True, \"stdout\": subprocess.DEVNULL, \"stderr\": subprocess.DEVNULL}\n",
    "subprocess.run(f\"curl -sLo {tarball_path} {zrok_url}\", **flags)\n",
    "subprocess.run(f\"tar -xzf {tarball_path} -C {zrok_path} --wildcards *zrok\", **flags)\n",
    "subprocess.run(f\"rm -rf /home/studio-lab-user/.cache/*\", **flags)\n",
    "\n",
    "os.remove(tarball_path)"
   ]
  },
  {
   "cell_type": "markdown",
   "id": "cdafecec",
   "metadata": {},
   "source": [
    "<div class=\"alert alert-warning\">\n",
    "<b>Warning</b>: manual intervention is required!\n",
    "</div>\n",
    "\n",
    "First, run `~/.zrok/bin/zrok invite` in your terminal shell and follow the instructions to create a zrok account.\n",
    "\n",
    "After creating the account, you will receive a key. It will be used to make ComfyUI accessible through the internet.\n",
    "\n",
    "Paste it here so you don't lose it: `ZROK KEY`."
   ]
  },
  {
   "cell_type": "markdown",
   "id": "42366d8f",
   "metadata": {},
   "source": [
    "### 2. Install models, custom nodes, workflows, etc. Execute it once."
   ]
  },
  {
   "cell_type": "markdown",
   "id": "efc80b8d",
   "metadata": {},
   "source": [
    "Let us begin with the models. First, we will download some checkpoints. Uncomment the lines for those you want to download, but remember that storage is limited:"
   ]
  },
  {
   "cell_type": "code",
   "execution_count": null,
   "id": "aa429884",
   "metadata": {},
   "outputs": [],
   "source": [
    "!curl -Lo \"/home/studio-lab-user/ComfyUI/models/checkpoints/RealVisXLv4Light.safetensors\" \"https://civitai.com/api/download/models/361593\" # SDXL Lightning\n",
    "# !curl -Lo \"/home/studio-lab-user/ComfyUI/models/checkpoints/DreamShaperXLTurbo.safetensors\" \"https://civitai.com/api/download/models/351306\" # SDXL Turbo\n",
    "# !curl -Lo \"/home/studio-lab-user/ComfyUI/models/checkpoints/Epicrealismv5.safetensors\" \"https://civitai.com/api/download/models/134065?type=Model&format=SafeTensor&size=pruned&fp=fp16\"\n",
    "# !curl -Lo \"/home/studio-lab-user/ComfyUI/models/checkpoints/epiCPhotoGasm.safetensors\" \"https://civitai.com/api/download/models/429454\"\n",
    "# !curl -Lo \"/home/studio-lab-user/ComfyUI/models/checkpoints/Photon.safetensors\" \"https://civitai.com/api/download/models/90072\"\n",
    "# !curl -Lo \"/home/studio-lab-user/ComfyUI/models/checkpoints/chilloutmix.safetensors\" \"https://civitai.com/api/download/models/11745\"\n",
    "# !curl -Lo \"/home/studio-lab-user/ComfyUI/models/checkpoints/Anything_V5.safetensors\" \"https://civitai.com/api/download/models/30163\"\n",
    "# !curl -Lo \"/home/studio-lab-user/ComfyUI/models/checkpoints/DivineEleganceMix_V6\" \"https://civitai.com/api/download/models/122702\""
   ]
  },
  {
   "cell_type": "markdown",
   "id": "01e5acdd",
   "metadata": {},
   "source": [
    "And some controlnet models (optional):"
   ]
  },
  {
   "cell_type": "code",
   "execution_count": null,
   "id": "cf3144f5",
   "metadata": {},
   "outputs": [],
   "source": [
    "!curl -Lo \"/home/studio-lab-user/ComfyUI/models/controlnet/canny.safetensors\" \"https://huggingface.co/ckpt/ControlNet-v1-1/resolve/main/control_v11p_sd15_canny_fp16.safetensors\"\n",
    "# !curl -Lo \"/home/studio-lab-user/ComfyUI/models/controlnet/openpose.safetensors\" \"https://huggingface.co/ckpt/ControlNet-v1-1/resolve/main/control_v11p_sd15_openpose_fp16.safetensors\"\n",
    "# !curl -Lo \"/home/studio-lab-user/ComfyUI/models/controlnet/inpaint.safetensors\" \"https://huggingface.co/ckpt/ControlNet-v1-1/resolve/main/control_v11p_sd15_inpaint_fp16.safetensors\"\n",
    "# !curl -Lo \"/home/studio-lab-user/ComfyUI/models/controlnet/depth.safetensors\" \"https://huggingface.co/ckpt/ControlNet-v1-1/resolve/main/control_v11f1p_sd15_depth_fp16.safetensors\"\n",
    "# !curl -Lo \"/home/studio-lab-user/ComfyUI/models/controlnet/tile.safetensors\" \"https://huggingface.co/ckpt/ControlNet-v1-1/resolve/main/control_v11f1e_sd15_tile_fp16.safetensors\"\n",
    "# !curl -Lo \"/home/studio-lab-user/ComfyUI/models/controlnet/shuffle.safetensors\" \"https://huggingface.co/ckpt/ControlNet-v1-1/resolve/main/control_v11e_sd15_shuffle_fp16.safetensors\"\n",
    "# !curl -Lo \"/home/studio-lab-user/ComfyUI/models/controlnet/lineart.safetensors\" \"https://huggingface.co/ckpt/ControlNet-v1-1/resolve/main/control_v11p_sd15_lineart_fp16.safetensors\"\n",
    "# !curl -Lo \"/home/studio-lab-user/ComfyUI/models/controlnet/mlsd.safetensors\" \"https://huggingface.co/ckpt/ControlNet-v1-1/resolve/main/control_v11p_sd15_mlsd_fp16.safetensors\"\n",
    "# !curl -Lo \"/home/studio-lab-user/ComfyUI/models/controlnet/normalbae.safetensors\" \"https://huggingface.co/ckpt/ControlNet-v1-1/resolve/main/control_v11p_sd15_normalbae_fp16.safetensors\"\n",
    "# !curl -Lo \"/home/studio-lab-user/ComfyUI/models/controlnet/scribble.safetensors\" \"https://huggingface.co/ckpt/ControlNet-v1-1/resolve/main/control_v11p_sd15_scribble_fp16.safetensors\"\n",
    "# !curl -Lo \"/home/studio-lab-user/ComfyUI/models/controlnet/softedge.safetensors\" \"https://huggingface.co/ckpt/ControlNet-v1-1/resolve/main/control_v11p_sd15_softedge_fp16.safetensors\"\n",
    "# !curl -Lo \"/home/studio-lab-user/ComfyUI/models/controlnet/lineart_anime.safetensors\" \"https://huggingface.co/ckpt/ControlNet-v1-1/resolve/main/control_v11p_sd15s2_lineart_anime_fp16.safetensors\""
   ]
  },
  {
   "cell_type": "markdown",
   "id": "1c5fc772",
   "metadata": {},
   "source": [
    "Now, download some LoRas  (optional):"
   ]
  },
  {
   "cell_type": "code",
   "execution_count": null,
   "id": "090d87c8",
   "metadata": {},
   "outputs": [],
   "source": [
    "!curl -Lo \"/home/studio-lab-user/ComfyUI/models/loras/MJ-mimic.safetensors\" \"https://civitai.com/api/download/models/283697\"\n",
    "!curl -Lo \"/home/studio-lab-user/ComfyUI/models/loras/dark-atmosphere.safetensors\" \"https://civitai.com/api/download/models/332071\"\n",
    "# !curl -Lo \"/home/studio-lab-user/ComfyUI/models/loras/matte-black.safetensors\" \"https://civitai.com/api/download/models/430643\"\n",
    "# !curl -Lo \"/home/studio-lab-user/ComfyUI/models/loras/fractal-art.safetensors\" \"https://civitai.com/api/download/models/169002\"\n",
    "# !curl -Lo \"/home/studio-lab-user/ComfyUI/models/loras/xl-more-art.safetensors\" \"https://civitai.com/api/download/models/152309\"\n",
    "# !curl -Lo \"/home/studio-lab-user/ComfyUI/models/loras/add-detail-xl.safetensors\" \"https://civitai.com/api/download/models/135867\"\n",
    "# !curl -Lo \"/home/studio-lab-user/ComfyUI/models/loras/epic-noise-offset.safetensors\" \"https://civitai.com/api/download/models/16576?type=Model&format=SafeTensor&size=full&fp=fp16\""
   ]
  },
  {
   "cell_type": "markdown",
   "id": "813974cc",
   "metadata": {},
   "source": [
    "VAEs (optional, depending on the model):"
   ]
  },
  {
   "cell_type": "code",
   "execution_count": null,
   "id": "2c948117",
   "metadata": {},
   "outputs": [],
   "source": [
    "# !curl -Lo \"/home/studio-lab-user/ComfyUI/models/vae/wd.vae.safetensors\" \"https://huggingface.co/NoCrypt/resources/resolve/main/VAE/wd.vae.safetensors\""
   ]
  },
  {
   "cell_type": "markdown",
   "id": "e49fb578",
   "metadata": {},
   "source": [
    "Upscale models (optional):"
   ]
  },
  {
   "cell_type": "code",
   "execution_count": null,
   "id": "0c944dc4",
   "metadata": {},
   "outputs": [],
   "source": [
    "!curl -Lo \"/home/studio-lab-user/ComfyUI/models/upscale_models/4x-UltraSharp.pth\" \"https://civitai.com/api/download/models/125843\"\n",
    "# !curl -Lo \"/home/studio-lab-user/ComfyUI/models/upscale_models/4x_fatal_Anime_500000_G.pth\" \"https://huggingface.co/Laft/4x_fatal_Anime_500000_G/resolve/main/4x_fatal_Anime_500000_G.pth\""
   ]
  },
  {
   "cell_type": "markdown",
   "id": "1823af6e",
   "metadata": {},
   "source": [
    "Embeddings (optional):"
   ]
  },
  {
   "cell_type": "code",
   "execution_count": null,
   "id": "f8a13965",
   "metadata": {},
   "outputs": [],
   "source": [
    "!rm -r /home/studio-lab-user/ComfyUI/models/embeddings\n",
    "%cd ~/ComfyUI/models\n",
    "!git clone https://huggingface.co/Laft/embeddings"
   ]
  },
  {
   "cell_type": "markdown",
   "id": "c41d78a2",
   "metadata": {},
   "source": [
    "### 3. Setup ComfyUI wit additional stuff. Execute it once."
   ]
  },
  {
   "cell_type": "markdown",
   "id": "a5dd24ea",
   "metadata": {},
   "source": [
    "Install some useful custom nodes (optional):"
   ]
  },
  {
   "cell_type": "code",
   "execution_count": null,
   "id": "05745336",
   "metadata": {},
   "outputs": [],
   "source": [
    "%cd ~/ComfyUI/custom_nodes\n",
    "!git clone https://github.com/ltdrdata/ComfyUI-Manager # allows custom nodes to be installed from the webUI\n",
    "\n",
    "!git clone https://github.com/pythongosssss/ComfyUI-Custom-Scripts\n",
    "!git clone https://github.com/jags111/efficiency-nodes-comfyui\n",
    "!git clone https://github.com/Suzie1/ComfyUI_Comfyroll_CustomNodes\n",
    "!git clone https://github.com/twri/sdxl_prompt_styler\n",
    "!git clone https://github.com/ssitu/ComfyUI_UltimateSDUpscale --recursive"
   ]
  },
  {
   "cell_type": "markdown",
   "id": "b96e4a31",
   "metadata": {},
   "source": [
    "Change the default workflow (optional):"
   ]
  },
  {
   "cell_type": "code",
   "execution_count": null,
   "id": "df8b6233",
   "metadata": {},
   "outputs": [],
   "source": [
    "# \"/home/studio-lab-user/ComfyUI/web/scripts/defaultGraph.js\""
   ]
  },
  {
   "cell_type": "markdown",
   "id": "6a87cf1c-7b77-4618-9576-c7e4181dde49",
   "metadata": {
    "tags": []
   },
   "source": [
    "### 4. Launch ComfyUI."
   ]
  },
  {
   "cell_type": "markdown",
   "id": "44f2b46b",
   "metadata": {},
   "source": [
    "Now, launch ComfyUI. Keep this cell running while you are using the UI:"
   ]
  },
  {
   "cell_type": "code",
   "execution_count": null,
   "id": "9ea3ea45-056c-4863-a06a-3f7422bf7e20",
   "metadata": {
    "tags": []
   },
   "outputs": [],
   "source": [
    "%cd ~/ComfyUI\n",
    "!python main.py --preview-method auto --enable-cors-header --use-pytorch-cross-attention"
   ]
  },
  {
   "cell_type": "markdown",
   "id": "c9f59742",
   "metadata": {},
   "source": [
    "<div class=\"alert alert-warning\">\n",
    "<b>Warning</b>: manual intervention is required!\n",
    "</div>\n",
    "\n",
    "After starting ComfyUI, you need to make it accessible to the public internet thorugh zrok.\n",
    "\n",
    "First, open a new terminal on your Jupyter workspace. Then, run the following commands:\n",
    "\n",
    "`~/.zrok/bin/zrok enable <ZROK KEY>`\n",
    "\n",
    "`~/.zrok/bin/zrok share public localhost:8188 --headless`\n",
    "\n",
    "Of course, replace `<ZROK KEY>` with your actual key before running the commands.\n",
    "\n",
    "After running the second command, you should see a URL ending in `.share.zrok.io` or something similar. Open it to have access to ComfyUI."
   ]
  }
 ],
 "metadata": {
  "language_info": {
   "name": "python"
  }
 },
 "nbformat": 4,
 "nbformat_minor": 5
}
